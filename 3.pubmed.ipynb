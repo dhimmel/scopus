{
 "cells": [
  {
   "cell_type": "markdown",
   "source": [
    "# Map journalmetrics to NLM IDs for PubMed compatibility"
   ],
   "metadata": {}
  },
  {
   "cell_type": "code",
   "execution_count": 1,
   "source": [
    "# Read scopus-ISSN mapping\n",
    "col_types = list(scopus_id = readr::col_character(), issn = readr::col_character())\n",
    "issn_df = file.path('data', 'issn.tsv') |>\n",
    "  readr::read_tsv(col_types = col_types)\n",
    "\n",
    "head(issn_df, 2)"
   ],
   "outputs": [
    {
     "output_type": "display_data",
     "data": {
      "text/plain": [
       "  scopus_id issn_type issn     \n",
       "1 12000     print     1527-6228\n",
       "2 12001     print     0022-5002"
      ],
      "text/markdown": [
       "\n",
       "A tibble: 2 × 3\n",
       "\n",
       "| scopus_id &lt;chr&gt; | issn_type &lt;chr&gt; | issn &lt;chr&gt; |\n",
       "|---|---|---|\n",
       "| 12000 | print | 1527-6228 |\n",
       "| 12001 | print | 0022-5002 |\n",
       "\n"
      ],
      "text/latex": [
       "A tibble: 2 × 3\n",
       "\\begin{tabular}{lll}\n",
       " scopus\\_id & issn\\_type & issn\\\\\n",
       " <chr> & <chr> & <chr>\\\\\n",
       "\\hline\n",
       "\t 12000 & print & 1527-6228\\\\\n",
       "\t 12001 & print & 0022-5002\\\\\n",
       "\\end{tabular}\n"
      ],
      "text/html": [
       "<table class=\"dataframe\">\n",
       "<caption>A tibble: 2 × 3</caption>\n",
       "<thead>\n",
       "\t<tr><th scope=col>scopus_id</th><th scope=col>issn_type</th><th scope=col>issn</th></tr>\n",
       "\t<tr><th scope=col>&lt;chr&gt;</th><th scope=col>&lt;chr&gt;</th><th scope=col>&lt;chr&gt;</th></tr>\n",
       "</thead>\n",
       "<tbody>\n",
       "\t<tr><td>12000</td><td>print</td><td>1527-6228</td></tr>\n",
       "\t<tr><td>12001</td><td>print</td><td>0022-5002</td></tr>\n",
       "</tbody>\n",
       "</table>\n"
      ]
     },
     "metadata": {}
    }
   ],
   "metadata": {
    "collapsed": false
   }
  },
  {
   "cell_type": "code",
   "execution_count": 2,
   "source": [
    "# Read PubMed Journals\n",
    "journal_df = 'https://raw.githubusercontent.com/dhimmel/delays/83577d4bb774bb90533d2cfe0db7032b70fdbbc1/data/pubmed-journals.tsv' |>\n",
    "  readr::read_tsv()\n",
    "head(journal_df, 2)"
   ],
   "outputs": [
    {
     "output_type": "stream",
     "name": "stderr",
     "text": [
      "\u001b[33m!\u001b[39m \u001b[34m\u001b[34mcurl\u001b[34m\u001b[39m package not installed, falling back to using \u001b[30m\u001b[47m\u001b[30m\u001b[47m`url()`\u001b[47m\u001b[30m\u001b[49m\u001b[39m\n",
      "\n",
      "\n",
      "\u001b[36m──\u001b[39m \u001b[1m\u001b[1mColumn specification\u001b[1m\u001b[22m \u001b[36m────────────────────────────────────────────────────────\u001b[39m\n",
      "cols(\n",
      "  JrId = \u001b[32mcol_double()\u001b[39m,\n",
      "  JournalTitle = \u001b[31mcol_character()\u001b[39m,\n",
      "  NlmId = \u001b[31mcol_character()\u001b[39m,\n",
      "  MedAbbr = \u001b[31mcol_character()\u001b[39m,\n",
      "  IsoAbbr = \u001b[31mcol_character()\u001b[39m,\n",
      "  `ISSN (Print)` = \u001b[31mcol_character()\u001b[39m,\n",
      "  `ISSN (Online)` = \u001b[31mcol_character()\u001b[39m\n",
      ")\n",
      "\n",
      "\n"
     ]
    },
    {
     "output_type": "display_data",
     "data": {
      "text/plain": [
       "  JrId JournalTitle                                NlmId  \n",
       "1 198  Acta radiologica: therapy, physics, biology 0000201\n",
       "2 159  Acta paediatrica Scandinavica               0000211\n",
       "  MedAbbr                    IsoAbbr                    ISSN (Print)\n",
       "1 Acta Radiol Ther Phys Biol Acta Radiol Ther Phys Biol 0567-8064   \n",
       "2 Acta Paediatr Scand        Acta Paediatr Scand        0001-656X   \n",
       "  ISSN (Online)\n",
       "1 NA           \n",
       "2 NA           "
      ],
      "text/markdown": [
       "\n",
       "A tibble: 2 × 7\n",
       "\n",
       "| JrId &lt;dbl&gt; | JournalTitle &lt;chr&gt; | NlmId &lt;chr&gt; | MedAbbr &lt;chr&gt; | IsoAbbr &lt;chr&gt; | ISSN (Print) &lt;chr&gt; | ISSN (Online) &lt;chr&gt; |\n",
       "|---|---|---|---|---|---|---|\n",
       "| 198 | Acta radiologica: therapy, physics, biology | 0000201 | Acta Radiol Ther Phys Biol | Acta Radiol Ther Phys Biol | 0567-8064 | NA |\n",
       "| 159 | Acta paediatrica Scandinavica               | 0000211 | Acta Paediatr Scand        | Acta Paediatr Scand        | 0001-656X | NA |\n",
       "\n"
      ],
      "text/latex": [
       "A tibble: 2 × 7\n",
       "\\begin{tabular}{lllllll}\n",
       " JrId & JournalTitle & NlmId & MedAbbr & IsoAbbr & ISSN (Print) & ISSN (Online)\\\\\n",
       " <dbl> & <chr> & <chr> & <chr> & <chr> & <chr> & <chr>\\\\\n",
       "\\hline\n",
       "\t 198 & Acta radiologica: therapy, physics, biology & 0000201 & Acta Radiol Ther Phys Biol & Acta Radiol Ther Phys Biol & 0567-8064 & NA\\\\\n",
       "\t 159 & Acta paediatrica Scandinavica               & 0000211 & Acta Paediatr Scand        & Acta Paediatr Scand        & 0001-656X & NA\\\\\n",
       "\\end{tabular}\n"
      ],
      "text/html": [
       "<table class=\"dataframe\">\n",
       "<caption>A tibble: 2 × 7</caption>\n",
       "<thead>\n",
       "\t<tr><th scope=col>JrId</th><th scope=col>JournalTitle</th><th scope=col>NlmId</th><th scope=col>MedAbbr</th><th scope=col>IsoAbbr</th><th scope=col>ISSN (Print)</th><th scope=col>ISSN (Online)</th></tr>\n",
       "\t<tr><th scope=col>&lt;dbl&gt;</th><th scope=col>&lt;chr&gt;</th><th scope=col>&lt;chr&gt;</th><th scope=col>&lt;chr&gt;</th><th scope=col>&lt;chr&gt;</th><th scope=col>&lt;chr&gt;</th><th scope=col>&lt;chr&gt;</th></tr>\n",
       "</thead>\n",
       "<tbody>\n",
       "\t<tr><td>198</td><td>Acta radiologica: therapy, physics, biology</td><td>0000201</td><td>Acta Radiol Ther Phys Biol</td><td>Acta Radiol Ther Phys Biol</td><td>0567-8064</td><td>NA</td></tr>\n",
       "\t<tr><td>159</td><td>Acta paediatrica Scandinavica              </td><td>0000211</td><td>Acta Paediatr Scand       </td><td>Acta Paediatr Scand       </td><td>0001-656X</td><td>NA</td></tr>\n",
       "</tbody>\n",
       "</table>\n"
      ]
     },
     "metadata": {}
    }
   ],
   "metadata": {}
  },
  {
   "cell_type": "code",
   "execution_count": 3,
   "source": [
    "# Create a pubmed-scopus mapping\n",
    "pubmed_map_df = journal_df |>\n",
    "  tidyr::gather(key = 'issn_type', value = 'issn', `ISSN (Print)`, `ISSN (Online)`) |>\n",
    "  dplyr::distinct() |>\n",
    "  dplyr::transmute(journal_nlm_id = NlmId, issn) |>\n",
    "  # dplyr::mutate(issn = sub('-', '', issn)) |>\n",
    "  dplyr::inner_join(issn_df) |>\n",
    "  dplyr::select(journal_nlm_id, scopus_id) |>\n",
    "  dplyr::distinct() |>\n",
    "  dplyr::arrange(journal_nlm_id, scopus_id)\n",
    "\n",
    "pubmed_map_df |>\n",
    "  readr::write_tsv(file.path('data', 'pubmed-map.tsv'))\n",
    "\n",
    "head(pubmed_map_df, 2)"
   ],
   "outputs": [
    {
     "output_type": "stream",
     "name": "stderr",
     "text": [
      "Joining, by = \"issn\"\n",
      "\n"
     ]
    },
    {
     "output_type": "display_data",
     "data": {
      "text/plain": [
       "  journal_nlm_id scopus_id\n",
       "1 0000201        72678    \n",
       "2 0000211        40958    "
      ],
      "text/markdown": [
       "\n",
       "A tibble: 2 × 2\n",
       "\n",
       "| journal_nlm_id &lt;chr&gt; | scopus_id &lt;chr&gt; |\n",
       "|---|---|\n",
       "| 0000201 | 72678 |\n",
       "| 0000211 | 40958 |\n",
       "\n"
      ],
      "text/latex": [
       "A tibble: 2 × 2\n",
       "\\begin{tabular}{ll}\n",
       " journal\\_nlm\\_id & scopus\\_id\\\\\n",
       " <chr> & <chr>\\\\\n",
       "\\hline\n",
       "\t 0000201 & 72678\\\\\n",
       "\t 0000211 & 40958\\\\\n",
       "\\end{tabular}\n"
      ],
      "text/html": [
       "<table class=\"dataframe\">\n",
       "<caption>A tibble: 2 × 2</caption>\n",
       "<thead>\n",
       "\t<tr><th scope=col>journal_nlm_id</th><th scope=col>scopus_id</th></tr>\n",
       "\t<tr><th scope=col>&lt;chr&gt;</th><th scope=col>&lt;chr&gt;</th></tr>\n",
       "</thead>\n",
       "<tbody>\n",
       "\t<tr><td>0000201</td><td>72678</td></tr>\n",
       "\t<tr><td>0000211</td><td>40958</td></tr>\n",
       "</tbody>\n",
       "</table>\n"
      ]
     },
     "metadata": {}
    }
   ],
   "metadata": {
    "collapsed": false
   }
  },
  {
   "cell_type": "code",
   "execution_count": 4,
   "source": [
    "# Read journalmetrics data\n",
    "col_types = list(scopus_id = readr::col_character())\n",
    "metric_df = file.path('data', 'metrics.tsv.gz') |>\n",
    "  readr::read_tsv(col_types = col_types)"
   ],
   "outputs": [],
   "metadata": {
    "collapsed": false
   }
  },
  {
   "cell_type": "code",
   "execution_count": 5,
   "source": [
    "# Transform metrics to pubmed\n",
    "metric_df = pubmed_map_df |>\n",
    "  dplyr::inner_join(metric_df) |>\n",
    "  dplyr::select(-scopus_id) |>\n",
    "  dplyr::group_by(journal_nlm_id, year, metric) |>\n",
    "  dplyr::summarize(\n",
    "    value = mean(value)\n",
    "  ) |> dplyr::ungroup()\n",
    "\n",
    "head(metric_df, 2)"
   ],
   "outputs": [
    {
     "output_type": "stream",
     "name": "stderr",
     "text": [
      "Joining, by = \"scopus_id\"\n",
      "\n",
      "`summarise()` has grouped output by 'journal_nlm_id', 'year'. You can override using the `.groups` argument.\n",
      "\n"
     ]
    },
    {
     "output_type": "display_data",
     "data": {
      "text/plain": [
       "  journal_nlm_id year metric    value\n",
       "1 0000266        2011 CiteScore 4.50 \n",
       "2 0000266        2011 SJR       1.36 "
      ],
      "text/markdown": [
       "\n",
       "A tibble: 2 × 4\n",
       "\n",
       "| journal_nlm_id &lt;chr&gt; | year &lt;dbl&gt; | metric &lt;chr&gt; | value &lt;dbl&gt; |\n",
       "|---|---|---|---|\n",
       "| 0000266 | 2011 | CiteScore | 4.50 |\n",
       "| 0000266 | 2011 | SJR       | 1.36 |\n",
       "\n"
      ],
      "text/latex": [
       "A tibble: 2 × 4\n",
       "\\begin{tabular}{llll}\n",
       " journal\\_nlm\\_id & year & metric & value\\\\\n",
       " <chr> & <dbl> & <chr> & <dbl>\\\\\n",
       "\\hline\n",
       "\t 0000266 & 2011 & CiteScore & 4.50\\\\\n",
       "\t 0000266 & 2011 & SJR       & 1.36\\\\\n",
       "\\end{tabular}\n"
      ],
      "text/html": [
       "<table class=\"dataframe\">\n",
       "<caption>A tibble: 2 × 4</caption>\n",
       "<thead>\n",
       "\t<tr><th scope=col>journal_nlm_id</th><th scope=col>year</th><th scope=col>metric</th><th scope=col>value</th></tr>\n",
       "\t<tr><th scope=col>&lt;chr&gt;</th><th scope=col>&lt;dbl&gt;</th><th scope=col>&lt;chr&gt;</th><th scope=col>&lt;dbl&gt;</th></tr>\n",
       "</thead>\n",
       "<tbody>\n",
       "\t<tr><td>0000266</td><td>2011</td><td>CiteScore</td><td>4.50</td></tr>\n",
       "\t<tr><td>0000266</td><td>2011</td><td>SJR      </td><td>1.36</td></tr>\n",
       "</tbody>\n",
       "</table>\n"
      ]
     },
     "metadata": {}
    }
   ],
   "metadata": {
    "collapsed": false
   }
  },
  {
   "cell_type": "code",
   "execution_count": 6,
   "source": [
    "# Save pubmed metrics to a gzipped TSV\n",
    "path = file.path('data', 'pubmed-metrics.tsv')\n",
    "metric_df |>\n",
    "  readr::write_tsv(path)\n",
    "system2('gzip', c('--force', \"--no-name\", path))"
   ],
   "outputs": [],
   "metadata": {
    "collapsed": true
   }
  }
 ],
 "metadata": {
  "kernelspec": {
   "display_name": "R",
   "language": "R",
   "name": "python396jvsc74a57bd00e356716c2af146b4f1229c16fd80fd2e17e74cbf6057515b63f09e4d327206c"
  },
  "language_info": {
   "name": "R",
   "codemirror_mode": "r",
   "pygments_lexer": "r",
   "mimetype": "text/x-r-source",
   "file_extension": ".r",
   "version": "4.1.1"
  }
 },
 "nbformat": 4,
 "nbformat_minor": 2
}